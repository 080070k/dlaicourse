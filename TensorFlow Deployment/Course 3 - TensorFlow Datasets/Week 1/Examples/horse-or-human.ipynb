{
  "nbformat": 4,
  "nbformat_minor": 0,
  "metadata": {
    "colab": {
      "name": "datasets.ipynb",
      "provenance": [],
      "collapsed_sections": [],
      "toc_visible": true,
      "include_colab_link": true
    },
    "kernelspec": {
      "name": "python3",
      "display_name": "Python 3"
    },
    "accelerator": "GPU"
  },
  "cells": [
    {
      "cell_type": "markdown",
      "metadata": {
        "id": "view-in-github",
        "colab_type": "text"
      },
      "source": [
        "<a href=\"https://colab.research.google.com/github/lmoroney/dlaicourse/blob/master/TensorFlow%20Deployment/Course%203%20-%20TensorFlow%20Datasets/Week%201/Examples/horse-or-human.ipynb\" target=\"_parent\"><img src=\"https://colab.research.google.com/assets/colab-badge.svg\" alt=\"Open In Colab\"/></a>"
      ]
    },
    {
      "cell_type": "code",
      "metadata": {
        "id": "zX4Kg8DUTKWO",
        "colab_type": "code",
        "colab": {}
      },
      "source": [
        "#@title Licensed under the Apache License, Version 2.0 (the \"License\");\n",
        "# you may not use this file except in compliance with the License.\n",
        "# You may obtain a copy of the License at\n",
        "#\n",
        "# https://www.apache.org/licenses/LICENSE-2.0\n",
        "#\n",
        "# Unless required by applicable law or agreed to in writing, software\n",
        "# distributed under the License is distributed on an \"AS IS\" BASIS,\n",
        "# WITHOUT WARRANTIES OR CONDITIONS OF ANY KIND, either express or implied.\n",
        "# See the License for the specific language governing permissions and\n",
        "# limitations under the License."
      ],
      "execution_count": 0,
      "outputs": []
    },
    {
      "cell_type": "markdown",
      "metadata": {
        "id": "coY1OkmCnT_8",
        "colab_type": "text"
      },
      "source": [
        "Good to run this to ensure you are using TF2.x"
      ]
    },
    {
      "cell_type": "code",
      "metadata": {
        "colab_type": "code",
        "id": "ioLbtB3uGKPX",
        "colab": {}
      },
      "source": [
        "try:\n",
        "  # %tensorflow_version only exists in Colab.\n",
        "  %tensorflow_version 2.x\n",
        "except Exception:\n",
        "  pass"
      ],
      "execution_count": 0,
      "outputs": []
    },
    {
      "cell_type": "code",
      "metadata": {
        "id": "iSq4t32ZHHpt",
        "colab_type": "code",
        "colab": {
          "base_uri": "https://localhost:8080/",
          "height": 363
        },
        "outputId": "b0a88ef2-760c-43f1-e512-f142c8be2677"
      },
      "source": [
        "import tensorflow as tf\n",
        "import tensorflow_datasets as tfds\n",
        "import tensorflow_addons as tfa\n",
        "\n",
        "data = tfds.load('horses_or_humans', split='train', as_supervised=True)\n",
        "val_data = tfds.load('horses_or_humans', split='test', as_supervised=True)\n",
        "\n",
        "train_batches = data.shuffle(100).batch(32)\n",
        "validation_batches = val_data.batch(32)\n",
        "\n",
        "model = tf.keras.models.Sequential([\n",
        "    tf.keras.layers.Conv2D(16, (3,3), activation='relu', \n",
        "                                      input_shape=(300, 300, 3)),\n",
        "    tf.keras.layers.MaxPooling2D(2, 2),\n",
        "    tf.keras.layers.Conv2D(32, (3,3), activation='relu'),\n",
        "    tf.keras.layers.MaxPooling2D(2,2),\n",
        "    tf.keras.layers.Conv2D(64, (3,3), activation='relu'),\n",
        "    tf.keras.layers.MaxPooling2D(2,2),\n",
        "    tf.keras.layers.Conv2D(64, (3,3), activation='relu'),\n",
        "    tf.keras.layers.MaxPooling2D(2,2),\n",
        "    tf.keras.layers.Conv2D(64, (3,3), activation='relu'),\n",
        "    tf.keras.layers.MaxPooling2D(2,2),\n",
        "    tf.keras.layers.Flatten(),\n",
        "    tf.keras.layers.Dense(512, activation='relu'),\n",
        "    tf.keras.layers.Dense(1, activation='sigmoid')\n",
        "])\n",
        "\n",
        "\n",
        "model.compile(optimizer='Adam', loss='binary_crossentropy', metrics=['accuracy'])\n",
        "\n",
        "history = model.fit(train_batches, epochs=10, validation_data=validation_batches, validation_steps=1)"
      ],
      "execution_count": 2,
      "outputs": [
        {
          "output_type": "stream",
          "text": [
            "Epoch 1/10\n",
            "33/33 [==============================] - 5s 163ms/step - loss: 7.0531 - accuracy: 0.7128 - val_loss: 0.4535 - val_accuracy: 0.8438\n",
            "Epoch 2/10\n",
            "33/33 [==============================] - 4s 123ms/step - loss: 0.1301 - accuracy: 0.9455 - val_loss: 1.6637 - val_accuracy: 0.7500\n",
            "Epoch 3/10\n",
            "33/33 [==============================] - 4s 124ms/step - loss: 0.2554 - accuracy: 0.8870 - val_loss: 0.3239 - val_accuracy: 0.9688\n",
            "Epoch 4/10\n",
            "33/33 [==============================] - 4s 123ms/step - loss: 0.0697 - accuracy: 0.9747 - val_loss: 0.2275 - val_accuracy: 0.9375\n",
            "Epoch 5/10\n",
            "33/33 [==============================] - 4s 123ms/step - loss: 0.0344 - accuracy: 0.9873 - val_loss: 0.6786 - val_accuracy: 0.9062\n",
            "Epoch 6/10\n",
            "33/33 [==============================] - 4s 122ms/step - loss: 0.0064 - accuracy: 0.9990 - val_loss: 0.7031 - val_accuracy: 0.9062\n",
            "Epoch 7/10\n",
            "33/33 [==============================] - 4s 123ms/step - loss: 0.0026 - accuracy: 1.0000 - val_loss: 1.5573 - val_accuracy: 0.8750\n",
            "Epoch 8/10\n",
            "33/33 [==============================] - 4s 125ms/step - loss: 0.0019 - accuracy: 1.0000 - val_loss: 1.0805 - val_accuracy: 0.8750\n",
            "Epoch 9/10\n",
            "33/33 [==============================] - 4s 122ms/step - loss: 0.0015 - accuracy: 1.0000 - val_loss: 1.0110 - val_accuracy: 0.9062\n",
            "Epoch 10/10\n",
            "33/33 [==============================] - 4s 125ms/step - loss: 0.0010 - accuracy: 1.0000 - val_loss: 1.1108 - val_accuracy: 0.9062\n"
          ],
          "name": "stdout"
        }
      ]
    }
  ]
}